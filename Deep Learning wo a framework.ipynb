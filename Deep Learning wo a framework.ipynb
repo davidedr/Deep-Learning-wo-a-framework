{
 "cells": [
  {
   "cell_type": "code",
   "execution_count": null,
   "metadata": {},
   "outputs": [],
   "source": [
    "def initializa_parameters(layer_dims):\n",
    "    \n",
    "    paramters = {}\n",
    "    L = len(layer_dims)\n",
    "    for l in range(1, L):\n",
    "        paramters['W' + str(l)] = np.random.randn(layer_dims[l], layer_dims[l - 1])*0.01\n",
    "        paramters['b' + str(l)] = np.zeros(shape = layer_dims[l], 1)\n",
    "        \n",
    "        return parameters"
   ]
  }
 ],
 "metadata": {
  "kernelspec": {
   "display_name": "Python 3",
   "language": "python",
   "name": "python3"
  },
  "language_info": {
   "codemirror_mode": {
    "name": "ipython",
    "version": 3
   },
   "file_extension": ".py",
   "mimetype": "text/x-python",
   "name": "python",
   "nbconvert_exporter": "python",
   "pygments_lexer": "ipython3",
   "version": "3.6.5"
  }
 },
 "nbformat": 4,
 "nbformat_minor": 2
}
